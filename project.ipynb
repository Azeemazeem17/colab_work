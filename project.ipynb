{
  "nbformat": 4,
  "nbformat_minor": 0,
  "metadata": {
    "colab": {
      "provenance": [],
      "authorship_tag": "ABX9TyMPj/KLA2HSGCgDq3QcxDqG",
      "include_colab_link": true
    },
    "kernelspec": {
      "name": "python3",
      "display_name": "Python 3"
    },
    "language_info": {
      "name": "python"
    }
  },
  "cells": [
    {
      "cell_type": "markdown",
      "metadata": {
        "id": "view-in-github",
        "colab_type": "text"
      },
      "source": [
        "<a href=\"https://colab.research.google.com/github/Azeemazeem17/colab_work/blob/main/project.ipynb\" target=\"_parent\"><img src=\"https://colab.research.google.com/assets/colab-badge.svg\" alt=\"Open In Colab\"/></a>"
      ]
    },
    {
      "cell_type": "code",
      "execution_count": null,
      "metadata": {
        "colab": {
          "base_uri": "https://localhost:8080/",
          "height": 106
        },
        "id": "MiQsnxITNuFL",
        "outputId": "7cd01fa2-5c22-4e51-b2d9-a64c22f959be"
      },
      "outputs": [
        {
          "output_type": "error",
          "ename": "IndentationError",
          "evalue": "unexpected indent (ipython-input-3406572952.py, line 2)",
          "traceback": [
            "\u001b[0;36m  File \u001b[0;32m\"/tmp/ipython-input-3406572952.py\"\u001b[0;36m, line \u001b[0;32m2\u001b[0m\n\u001b[0;31m    otp=input(\"enter otp\")\u001b[0m\n\u001b[0m    ^\u001b[0m\n\u001b[0;31mIndentationError\u001b[0m\u001b[0;31m:\u001b[0m unexpected indent\n"
          ]
        }
      ],
      "source": [
        "dict2 ={'zero':0,'one':1,'two':2,'three':3,'four':4,'five':5,'six':6,'seven':7,'eight':8,'nine':9}\n",
        " otp=input(\"enter otp\")\n",
        "  otpn=otp.split(\" \")\n",
        "   print(dict2[otpn[θ]],dict2[otpn[17]], dict2[otpn[2]],dict2[otpn[3]])\n"
      ]
    },
    {
      "cell_type": "code",
      "source": [
        "age = age\n",
        "if age == age:\n",
        "    print(\"age\")\n",
        "elif age < 11:\n",
        "  print('crct')\n",
        "else:\n",
        "  print('not greater')\n"
      ],
      "metadata": {
        "colab": {
          "base_uri": "https://localhost:8080/"
        },
        "id": "EkfolsCNSAr8",
        "outputId": "93e0a749-6f43-4654-de34-6a4673199b0d"
      },
      "execution_count": null,
      "outputs": [
        {
          "output_type": "stream",
          "name": "stdout",
          "text": [
            "crct\n"
          ]
        }
      ]
    },
    {
      "cell_type": "code",
      "source": [
        "name = input(\"Enter your name: \")\n",
        "\n",
        "if len(name) > 10:\n",
        "    print(\"Your name is more than 10 characters long.\")\n",
        "else:\n",
        "    print(\"Your name is 10 or fewer characters long.\")\n"
      ],
      "metadata": {
        "colab": {
          "base_uri": "https://localhost:8080/"
        },
        "id": "VBXCoaYVTRnu",
        "outputId": "ca93c9bd-af5a-44a7-be02-8ae96020af17"
      },
      "execution_count": null,
      "outputs": [
        {
          "output_type": "stream",
          "name": "stdout",
          "text": [
            "Enter your name: mohammed azeem\n",
            "Your name is more than 10 characters long.\n"
          ]
        }
      ]
    },
    {
      "cell_type": "code",
      "source": [],
      "metadata": {
        "id": "FYwDXAlMi91c"
      },
      "execution_count": null,
      "outputs": []
    },
    {
      "cell_type": "code",
      "source": [
        "railway_24 = input(\"Enter time in 24-hour format (HH:MM): \")\n",
        "hours, minutes = map(int, railway_24.split(\":\"))\n",
        "if hours == 0:\n",
        "    converted_hours = 12\n",
        "    period = \"AM\"\n",
        "elif hours < 12:\n",
        "    converted_hours = hours\n",
        "    period = \"AM\"\n",
        "elif hours == 12:\n",
        "    converted_hours = 12\n",
        "    period = \"PM\"\n",
        "else:\n",
        "    converted_hours = hours - 12\n",
        "    period = \"PM\"\n",
        "print(f\"{converted_hours:02d}:{minutes:02d} {period}\")\n"
      ],
      "metadata": {
        "colab": {
          "base_uri": "https://localhost:8080/"
        },
        "id": "1Q5toITKbAQQ",
        "outputId": "d2e01301-7b1f-4626-db0f-53fd765fb223"
      },
      "execution_count": null,
      "outputs": [
        {
          "output_type": "stream",
          "name": "stdout",
          "text": [
            "Enter time in 24-hour format (HH:MM): 16:53\n",
            "04:53 PM\n"
          ]
        }
      ]
    },
    {
      "cell_type": "code",
      "source": [
        "def is_palindrome(text):\n",
        "    reversed_text = text[::-1]\n",
        "    if text == reversed_text:\n",
        "        print(\"It is a palindrome\")\n",
        "    else:\n",
        "        print(\"It is not a palindrome\")\n",
        "\n",
        "# Example usage:\n",
        "user_input = input(\"Enter a word: \")\n",
        "is_palindrome(user_input)\n"
      ],
      "metadata": {
        "colab": {
          "base_uri": "https://localhost:8080/"
        },
        "id": "BBR2PCI9hhVA",
        "outputId": "5443b48f-ad89-44be-d4e1-3891c1e15c7a"
      },
      "execution_count": null,
      "outputs": [
        {
          "output_type": "stream",
          "name": "stdout",
          "text": [
            "Enter a word: mam\n",
            "It is a palindrome\n"
          ]
        }
      ]
    },
    {
      "cell_type": "code",
      "source": [
        "string = input(\"enter u'r string\")\n",
        "reverse_str = string [::-1]\n",
        "if(string == reverse_str):\n",
        " print(\"the world is palindrome\")\n",
        "else:\n",
        " print(\"the world is not palindrome\")\n"
      ],
      "metadata": {
        "colab": {
          "base_uri": "https://localhost:8080/"
        },
        "id": "tvRcjKpWifmH",
        "outputId": "3a038edb-62d1-4596-b35e-97ce07bc8678"
      },
      "execution_count": null,
      "outputs": [
        {
          "output_type": "stream",
          "name": "stdout",
          "text": [
            "enter u'r stringmam\n",
            "the world is palindrome\n"
          ]
        }
      ]
    },
    {
      "cell_type": "code",
      "source": [
        "color = input('enter a color')\n",
        "if ((color == 'red') or (color == 'green') or (color == 'blue')):\n",
        " print('this is primary color')\n",
        "else:\n",
        " print('this not a primary color')\n",
        "\n"
      ],
      "metadata": {
        "colab": {
          "base_uri": "https://localhost:8080/"
        },
        "id": "iC27VKGpk_Ix",
        "outputId": "2f507291-35cb-4d2c-b187-edcd28b2b96b"
      },
      "execution_count": null,
      "outputs": [
        {
          "output_type": "stream",
          "name": "stdout",
          "text": [
            "enter a colorgreen\n",
            "this is primary color\n"
          ]
        }
      ]
    },
    {
      "cell_type": "code",
      "source": [
        "Mf_date = input(\"enter the MFD\").split(\"/\")\n",
        "day = Mf_date[O]\n",
        "month = Mf_date[1]\n",
        "Year= Mf_date[2]\n",
        "if ((year < 2024) or(month< 2)):\n",
        " print(\"This product got expired\")\n",
        "elif (day <=7) and (month == 2):\n",
        " print(\"This product is not expired\")\n",
        "else:\n",
        " print(\"This product is not expired\")"
      ],
      "metadata": {
        "colab": {
          "base_uri": "https://localhost:8080/",
          "height": 228
        },
        "id": "eMF_T7TQmv2e",
        "outputId": "1ad6692e-6764-42e0-d46d-418e19e960c7"
      },
      "execution_count": null,
      "outputs": [
        {
          "name": "stdout",
          "output_type": "stream",
          "text": [
            "enter the MFDsx\n"
          ]
        },
        {
          "output_type": "error",
          "ename": "NameError",
          "evalue": "name 'O' is not defined",
          "traceback": [
            "\u001b[0;31m---------------------------------------------------------------------------\u001b[0m",
            "\u001b[0;31mNameError\u001b[0m                                 Traceback (most recent call last)",
            "\u001b[0;32m/tmp/ipython-input-58605270.py\u001b[0m in \u001b[0;36m<cell line: 0>\u001b[0;34m()\u001b[0m\n\u001b[1;32m      1\u001b[0m \u001b[0mMf_date\u001b[0m \u001b[0;34m=\u001b[0m \u001b[0minput\u001b[0m\u001b[0;34m(\u001b[0m\u001b[0;34m\"enter the MFD\"\u001b[0m\u001b[0;34m)\u001b[0m\u001b[0;34m.\u001b[0m\u001b[0msplit\u001b[0m\u001b[0;34m(\u001b[0m\u001b[0;34m\"/\"\u001b[0m\u001b[0;34m)\u001b[0m\u001b[0;34m\u001b[0m\u001b[0;34m\u001b[0m\u001b[0m\n\u001b[0;32m----> 2\u001b[0;31m \u001b[0mday\u001b[0m \u001b[0;34m=\u001b[0m \u001b[0mMf_date\u001b[0m\u001b[0;34m[\u001b[0m\u001b[0mO\u001b[0m\u001b[0;34m]\u001b[0m\u001b[0;34m\u001b[0m\u001b[0;34m\u001b[0m\u001b[0m\n\u001b[0m\u001b[1;32m      3\u001b[0m \u001b[0mmonth\u001b[0m \u001b[0;34m=\u001b[0m \u001b[0mMf_date\u001b[0m\u001b[0;34m[\u001b[0m\u001b[0;36m1\u001b[0m\u001b[0;34m]\u001b[0m\u001b[0;34m\u001b[0m\u001b[0;34m\u001b[0m\u001b[0m\n\u001b[1;32m      4\u001b[0m \u001b[0mYear\u001b[0m\u001b[0;34m=\u001b[0m \u001b[0mMf_date\u001b[0m\u001b[0;34m[\u001b[0m\u001b[0;36m2\u001b[0m\u001b[0;34m]\u001b[0m\u001b[0;34m\u001b[0m\u001b[0;34m\u001b[0m\u001b[0m\n\u001b[1;32m      5\u001b[0m \u001b[0;32mif\u001b[0m \u001b[0;34m(\u001b[0m\u001b[0;34m(\u001b[0m\u001b[0myear\u001b[0m \u001b[0;34m<\u001b[0m \u001b[0;36m2024\u001b[0m\u001b[0;34m)\u001b[0m \u001b[0;32mor\u001b[0m\u001b[0;34m(\u001b[0m\u001b[0mmonth\u001b[0m\u001b[0;34m<\u001b[0m \u001b[0;36m2\u001b[0m\u001b[0;34m)\u001b[0m\u001b[0;34m)\u001b[0m\u001b[0;34m:\u001b[0m\u001b[0;34m\u001b[0m\u001b[0;34m\u001b[0m\u001b[0m\n",
            "\u001b[0;31mNameError\u001b[0m: name 'O' is not defined"
          ]
        }
      ]
    },
    {
      "cell_type": "code",
      "source": [
        "Mf_date = input(\"Enter the MFD (DD/MM/YYYY): \").split(\"/\")\n",
        "day = int(Mf_date[0])\n",
        "month = int(Mf_date[1])\n",
        "year = int(Mf_date[2])\n",
        "\n",
        "if (year < 2024) or (month < 2 and year == 2024):\n",
        "    print(\"This product got expired\")\n",
        "elif (day <= 7) and (month == 2 and year == 2024):\n",
        "    print(\"This product is not expired\")\n",
        "else:\n",
        "    print(\"This product is not expired\")\n"
      ],
      "metadata": {
        "colab": {
          "base_uri": "https://localhost:8080/"
        },
        "id": "3pj4DB6ApX30",
        "outputId": "b7a66431-654b-47b5-cdbe-ce50e41916af"
      },
      "execution_count": null,
      "outputs": [
        {
          "output_type": "stream",
          "name": "stdout",
          "text": [
            "Enter the MFD (DD/MM/YYYY): 12/02/2005\n",
            "This product got expired\n"
          ]
        }
      ]
    },
    {
      "cell_type": "code",
      "source": [
        "a =3\n",
        "print('a contains {}'.format(a))"
      ],
      "metadata": {
        "colab": {
          "base_uri": "https://localhost:8080/"
        },
        "id": "MZBnZ13kzbIJ",
        "outputId": "976bef3f-da88-4362-a57c-8fb20e7ded33"
      },
      "execution_count": null,
      "outputs": [
        {
          "output_type": "stream",
          "name": "stdout",
          "text": [
            "a contains 3\n"
          ]
        }
      ]
    },
    {
      "cell_type": "code",
      "source": [
        "print('hello')\n",
        "print('hii',end='_')\n",
        "print('welcome')"
      ],
      "metadata": {
        "colab": {
          "base_uri": "https://localhost:8080/"
        },
        "id": "xVc9x8Nkzvsy",
        "outputId": "0783c775-ce43-4c49-8150-9ac7ccc44aef"
      },
      "execution_count": null,
      "outputs": [
        {
          "output_type": "stream",
          "name": "stdout",
          "text": [
            "hello\n",
            "hii_welcome\n"
          ]
        }
      ]
    },
    {
      "cell_type": "code",
      "source": [
        "a = 5\n",
        "b = str(a)\n",
        "print(b, type(b))"
      ],
      "metadata": {
        "colab": {
          "base_uri": "https://localhost:8080/"
        },
        "id": "pvmJVQsM46uJ",
        "outputId": "de3ca558-45d2-4e99-a3eb-e4fc6471c8d1"
      },
      "execution_count": null,
      "outputs": [
        {
          "output_type": "stream",
          "name": "stdout",
          "text": [
            "5 <class 'str'>\n"
          ]
        }
      ]
    },
    {
      "cell_type": "code",
      "source": [
        "import keyword\n",
        "print(keyword.kwlist)"
      ],
      "metadata": {
        "colab": {
          "base_uri": "https://localhost:8080/"
        },
        "id": "V3AQKEIG7H4u",
        "outputId": "7d3327eb-675f-4577-b687-6f6d3f753d3f"
      },
      "execution_count": null,
      "outputs": [
        {
          "output_type": "stream",
          "name": "stdout",
          "text": [
            "['False', 'None', 'True', 'and', 'as', 'assert', 'async', 'await', 'break', 'class', 'continue', 'def', 'del', 'elif', 'else', 'except', 'finally', 'for', 'from', 'global', 'if', 'import', 'in', 'is', 'lambda', 'nonlocal', 'not', 'or', 'pass', 'raise', 'return', 'try', 'while', 'with', 'yield']\n"
          ]
        }
      ]
    },
    {
      "cell_type": "code",
      "source": [
        "x = [1,2,3]\n",
        "x.append(4)\n",
        "print(x)\n",
        "x.extend([5,6])\n",
        "print(x)"
      ],
      "metadata": {
        "colab": {
          "base_uri": "https://localhost:8080/"
        },
        "id": "Tbw6t806_IL7",
        "outputId": "29b95929-0ed7-4ae2-9f6c-c502216b87d4"
      },
      "execution_count": null,
      "outputs": [
        {
          "output_type": "stream",
          "name": "stdout",
          "text": [
            "[1, 2, 3, 4]\n",
            "[1, 2, 3, 4, 5, 6]\n"
          ]
        }
      ]
    },
    {
      "cell_type": "code",
      "source": [
        "railway_24 = input(\"Enter time in 24-hour format (HH:MM): \")\n",
        "hours, minutes = map(int, railway_24.split(\":\"))\n",
        "if hours == 0:\n",
        "    converted_hours = 12\n",
        "    period = \"AM\"\n",
        "elif hours < 12:\n",
        "    converted_hours = hours\n",
        "    period = \"AM\"\n",
        "elif hours == 12:\n",
        "    converted_hours = 12\n",
        "    period = \"PM\"\n",
        "else:\n",
        "    converted_hours = hours - 12\n",
        "    period = \"PM\"\n",
        "print(f\"{converted_hours:02d}:{minutes:02d} {period}\")"
      ],
      "metadata": {
        "colab": {
          "base_uri": "https://localhost:8080/",
          "height": 228
        },
        "id": "ti0vylLhBNf0",
        "outputId": "e07a8df7-6195-45f7-dcc6-626b4a18d7dc"
      },
      "execution_count": null,
      "outputs": [
        {
          "name": "stdout",
          "output_type": "stream",
          "text": [
            "Enter time in 24-hour format (HH:MM): 323131\n"
          ]
        },
        {
          "output_type": "error",
          "ename": "ValueError",
          "evalue": "not enough values to unpack (expected 2, got 1)",
          "traceback": [
            "\u001b[0;31m---------------------------------------------------------------------------\u001b[0m",
            "\u001b[0;31mValueError\u001b[0m                                Traceback (most recent call last)",
            "\u001b[0;32m/tmp/ipython-input-605723095.py\u001b[0m in \u001b[0;36m<cell line: 0>\u001b[0;34m()\u001b[0m\n\u001b[1;32m      1\u001b[0m \u001b[0mrailway_24\u001b[0m \u001b[0;34m=\u001b[0m \u001b[0minput\u001b[0m\u001b[0;34m(\u001b[0m\u001b[0;34m\"Enter time in 24-hour format (HH:MM): \"\u001b[0m\u001b[0;34m)\u001b[0m\u001b[0;34m\u001b[0m\u001b[0;34m\u001b[0m\u001b[0m\n\u001b[0;32m----> 2\u001b[0;31m \u001b[0mhours\u001b[0m\u001b[0;34m,\u001b[0m \u001b[0mminutes\u001b[0m \u001b[0;34m=\u001b[0m \u001b[0mmap\u001b[0m\u001b[0;34m(\u001b[0m\u001b[0mint\u001b[0m\u001b[0;34m,\u001b[0m \u001b[0mrailway_24\u001b[0m\u001b[0;34m.\u001b[0m\u001b[0msplit\u001b[0m\u001b[0;34m(\u001b[0m\u001b[0;34m\":\"\u001b[0m\u001b[0;34m)\u001b[0m\u001b[0;34m)\u001b[0m\u001b[0;34m\u001b[0m\u001b[0;34m\u001b[0m\u001b[0m\n\u001b[0m\u001b[1;32m      3\u001b[0m \u001b[0;32mif\u001b[0m \u001b[0mhours\u001b[0m \u001b[0;34m==\u001b[0m \u001b[0;36m0\u001b[0m\u001b[0;34m:\u001b[0m\u001b[0;34m\u001b[0m\u001b[0;34m\u001b[0m\u001b[0m\n\u001b[1;32m      4\u001b[0m     \u001b[0mconverted_hours\u001b[0m \u001b[0;34m=\u001b[0m \u001b[0;36m12\u001b[0m\u001b[0;34m\u001b[0m\u001b[0;34m\u001b[0m\u001b[0m\n\u001b[1;32m      5\u001b[0m     \u001b[0mperiod\u001b[0m \u001b[0;34m=\u001b[0m \u001b[0;34m\"AM\"\u001b[0m\u001b[0;34m\u001b[0m\u001b[0;34m\u001b[0m\u001b[0m\n",
            "\u001b[0;31mValueError\u001b[0m: not enough values to unpack (expected 2, got 1)"
          ]
        }
      ]
    },
    {
      "cell_type": "code",
      "source": [],
      "metadata": {
        "id": "r4LldqhQCw6H"
      },
      "execution_count": null,
      "outputs": []
    },
    {
      "cell_type": "code",
      "metadata": {
        "colab": {
          "base_uri": "https://localhost:8080/"
        },
        "id": "b2c6319b",
        "outputId": "37b18068-0494-4255-f6c1-51f63e8086f0"
      },
      "source": [
        "text = input(\"Enter a string: \")\n",
        "reversed_text = text[::-1]\n",
        "\n",
        "if text == reversed_text:\n",
        "    print(\"The string is a palindrome.\")\n",
        "else:\n",
        "    print(\"The string is not a palindrome.\")"
      ],
      "execution_count": null,
      "outputs": [
        {
          "output_type": "stream",
          "name": "stdout",
          "text": [
            "Enter a string: mam\n",
            "The string is a palindrome.\n"
          ]
        }
      ]
    },
    {
      "cell_type": "code",
      "metadata": {
        "colab": {
          "base_uri": "https://localhost:8080/"
        },
        "id": "92680621",
        "outputId": "48596b14-10f7-4ed7-e603-88dcdf5b6084"
      },
      "source": [
        "from datetime import datetime\n",
        "\n",
        "date_string = input(\"Enter a date in dd/mm/yyyy format: \")\n",
        "\n",
        "date_object = datetime.strptime(date_string, \"%d/%m/%Y\")\n",
        "\n",
        "format1 = date_object.strftime(\"-%m-%d-%Y\")\n",
        "format2 = date_object.strftime(\"-%d-%m-%Y\")\n",
        "format3 = date_object.strftime(\"%Y-%d-%m\")\n",
        "\n",
        "print(f\"Original date: {date_string}\")\n",
        "print(f\"Format -mm-dd-yyyy: {format1}\")\n",
        "print(f\"Format -dd-mm-yyyy: {format2}\")\n",
        "print(f\"Format yyyy-dd-mm: {format3}\")"
      ],
      "execution_count": null,
      "outputs": [
        {
          "output_type": "stream",
          "name": "stdout",
          "text": [
            "Enter a date in dd/mm/yyyy format: 05/08/2025\n",
            "Original date: 05/08/2025\n",
            "Format -mm-dd-yyyy: -08-05-2025\n",
            "Format -dd-mm-yyyy: -05-08-2025\n",
            "Format yyyy-dd-mm: 2025-05-08\n"
          ]
        }
      ]
    },
    {
      "cell_type": "code",
      "source": [
        "from typing_extensions import dataclass_transform\n",
        "date_input = input(\"Enter date in dd/mm/yyyy format: \")\n",
        "day, month, year = date_input.split(\"/\")\n",
        "format1 = f\"-{month}-{day}-{year}\"\n",
        "format2 = f\"-{day}-{month}-{year}\"\n",
        "format3 = f\"{year}-{day}-{month}\"\n",
        "print(\"Converted Formats:\")\n",
        "print(\"Format -mm-dd-yyyy:\", format1)\n",
        "print(\"Format -dd-mm-yyyy:\", format2)\n",
        "print(\"Format yyyy-dd-mm:\", format3)\n"
      ],
      "metadata": {
        "colab": {
          "base_uri": "https://localhost:8080/"
        },
        "id": "_X5X0XR6D8jD",
        "outputId": "ab1172ef-70f2-4543-d4e5-2a29617fd65d"
      },
      "execution_count": null,
      "outputs": [
        {
          "output_type": "stream",
          "name": "stdout",
          "text": [
            "Enter date in dd/mm/yyyy format: 05/08/2025\n",
            "Converted Formats:\n",
            "Format -mm-dd-yyyy: -08-05-2025\n",
            "Format -dd-mm-yyyy: -05-08-2025\n",
            "Format yyyy-dd-mm: 2025-05-08\n"
          ]
        }
      ]
    },
    {
      "cell_type": "code",
      "source": [],
      "metadata": {
        "id": "DNTafPZxF9yj"
      },
      "execution_count": null,
      "outputs": []
    }
  ]
}